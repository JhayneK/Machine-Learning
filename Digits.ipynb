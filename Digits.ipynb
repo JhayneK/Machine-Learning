from sklearn import datasets
import pandas as pd
import numpy as np

infodataset = datasets.load_digits()

print(infodataset.DESCR)

images = infodataset.images

images[55]

targetImages = infodataset.target

targetImages[55]

images[55]

targetImages[55]

import matplotlib.pyplot as plt
%matplotlib inline

fig = plt.figure
plt.imshow(images[55], cmap='gray')
plt.show()

listImagesFlatten = list()

for image in images:
  print(image.flatten())
  listImagesFlatten.append(image.flatten())

dataframeImgFlatten = pd.DataFrame(listImagesFlatten)

dataframeImgFlatten

dataframeImgFlatten['target'] = targetImages

dataframeImgFlatten.head()

x = dataframeImgFlatten.drop('target', axis=1)

y = dataframeImgFlatten['target']

from sklearn.model_selection import train_test_split

x_train, x_test, y_train, y_test = train_test_split(x,y, train_size=0.70,random_state=5)

x_train.head()

y_train.head()

from sklearn import svm

clf = svm.SVC()


clf.fit(x_train,y_train)

y_predict = clf.predict(x_test)

from sklearn.metrics import classification_report

print(classification_report(y_test, y_predict))

images[33]

fig = plt.figure
plt.imshow(images[33], cmap='gray')
plt.show()

images[33].flatten()

clf.predict(images[33].flatten().reshape(1, -1))
